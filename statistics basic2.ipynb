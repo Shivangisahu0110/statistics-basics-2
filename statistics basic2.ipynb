{
 "cells": [
  {
   "cell_type": "markdown",
   "id": "4c2ab4e4-f61a-4446-bc48-8a8f41b3441b",
   "metadata": {},
   "source": [
    "Q1. What are the three measures of central tendency?"
   ]
  },
  {
   "cell_type": "markdown",
   "id": "0cd29734-5186-4a12-9509-f95dc0bbc0ae",
   "metadata": {},
   "source": [
    "The three measures of central tendency are:\n",
    "\n",
    "Mean: The mean is the average of a set of values. It is calculated by adding up all the values in a dataset and then dividing the sum by the number of values. The mean is sensitive to extreme values (outliers) in the dataset.\n",
    "\n",
    "Median: The median is the middle value in a dataset when it is arranged in numerical order. If there is an even number of values, the median is the average of the two middle values. The median is less affected by extreme values and is particularly useful when dealing with skewed distributions.\n",
    "\n",
    "Mode: The mode is the most frequently occurring value in a dataset. A dataset may have no mode, one mode (unimodal), or more than one mode (multimodal). Unlike the mean and median, the mode is not necessarily unique."
   ]
  },
  {
   "cell_type": "markdown",
   "id": "d0e533e7-37d4-400b-b3a1-8963489a9078",
   "metadata": {},
   "source": [
    "Q2. What is the difference between the mean, median, and mode? How are they used to measure the\n",
    "central tendency of a dataset?"
   ]
  },
  {
   "cell_type": "markdown",
   "id": "72feae37-58b7-4b66-90e2-d97c717fdbfc",
   "metadata": {},
   "source": [
    "Mean:\n",
    "\n",
    "Definition: The mean is the average of a set of values. It is calculated by summing up all the values in the dataset and then dividing by the number of values.\n",
    "\n",
    "Use: The mean is widely used and provides a measure of central tendency that balances all the values in the dataset. However, it can be sensitive to extreme values (outliers), potentially skewing the result.\n",
    "\n",
    "Median:\n",
    "\n",
    "Definition: The median is the middle value in a dataset when it is ordered from least to greatest. If there is an even number of values, the median is the average of the two middle values.\n",
    "\n",
    "Use: The median is less affected by extreme values compared to the mean. It is particularly useful when dealing with skewed distributions because it is not influenced by values at the extremes of the dataset.\n",
    "\n",
    "Mode:\n",
    "\n",
    "Definition: The mode is the value that occurs most frequently in a dataset. A dataset may have no mode, one mode (unimodal), or more than one mode (multimodal).\n",
    "\n",
    "Use: The mode is useful for identifying the most common value(s) in a dataset. Unlike the mean and median, the mode can be applied to categorical data as well."
   ]
  },
  {
   "cell_type": "markdown",
   "id": "df9ac16b-ef16-494a-874a-805266b30282",
   "metadata": {},
   "source": [
    "Q3. Measure the three measures of central tendency for the given height data:\n",
    "[178,177,176,177,178.2,178,175,179,180,175,178.9,176.2,177,172.5,178,176.5]"
   ]
  },
  {
   "cell_type": "markdown",
   "id": "7fc7e4fc-ad4d-487f-b2d9-10c2d5d772f2",
   "metadata": {},
   "source": [
    "[178,177,176,177,178.2,178,175,179,180,175,178.9,176.2,177,172.5,178,176.5]"
   ]
  },
  {
   "cell_type": "markdown",
   "id": "f82f675a-b075-4dd5-a3b3-1e7020f5c482",
   "metadata": {},
   "source": [
    "Mean:\n",
    "Mean = (178+177+176+177+178.2+178+175+179+180+175+178.9+176.2+177+172.5+178+176.5)/16\n",
    "\n",
    "Calculating this sum and dividing by 16 gives the mean.\n",
    "\n",
    "Mean= 2832.3/16 ≈177.02\n",
    "\n",
    "\n",
    "Median:\n",
    "First, let's arrange the data in ascending order:\n",
    "\n",
    "172.5,175,175,176,176,176.2,177,177,177,178,178,178,178.2,178.9,180\n",
    "\n",
    "The median is the middle value, which is 177 in this case since there are 16 data points.\n",
    "\n",
    "median = 177\n",
    "\n",
    "Mode :\n",
    "The mode is the most frequently occurring value. Looking at the data, there is no value that repeats more than once, so this dataset is considered to have no mode.\n",
    "\n",
    "Mode = 178"
   ]
  },
  {
   "cell_type": "markdown",
   "id": "7001dab8-cb7c-42a5-a81b-71552546b928",
   "metadata": {},
   "source": [
    "Q4. Find the standard deviation for the given data:\n",
    "[178,177,176,177,178.2,178,175,179,180,175,178.9,176.2,177,172.5,178,176.5]"
   ]
  },
  {
   "cell_type": "markdown",
   "id": "820e26bf-dc7a-4fed-9cd1-288ca794a3a2",
   "metadata": {},
   "source": [
    "[178,177,176,177,178.2,178,175,179,180,175,178.9,176.2,177,172.5,178,176.5]"
   ]
  },
  {
   "cell_type": "code",
   "execution_count": 2,
   "id": "0314d15a-03cf-4b66-8c33-9d0809cf4431",
   "metadata": {},
   "outputs": [],
   "source": [
    "import numpy as np"
   ]
  },
  {
   "cell_type": "code",
   "execution_count": 6,
   "id": "408c857e-60c6-4467-af42-f1567b3cdaa9",
   "metadata": {},
   "outputs": [
    {
     "data": {
      "text/plain": [
       "1.7885814036548633"
      ]
     },
     "execution_count": 6,
     "metadata": {},
     "output_type": "execute_result"
    }
   ],
   "source": [
    "data = np.array([178,177,176,177,178.2,178,175,179,180,175,178.9,176.2,177,172.5,178,176.5])\n",
    "np.std(data)"
   ]
  },
  {
   "cell_type": "markdown",
   "id": "1002059a-b601-4e01-b1b6-870816fb62be",
   "metadata": {},
   "source": [
    "Q5. How are measures of dispersion such as range, variance, and standard deviation used to describe\n",
    "the spread of a dataset? Provide an example."
   ]
  },
  {
   "cell_type": "markdown",
   "id": "1a6a62dd-9823-4c44-89a0-0915abfb3472",
   "metadata": {},
   "source": [
    "Range:\n",
    "\n",
    "Definition: The range is the difference between the maximum and minimum values in a dataset.\n",
    "\n",
    "Use: It gives a quick and simple indication of how spread out the values in a dataset are. However, it can be sensitive to extreme values and may not provide a complete picture of the distribution.\n",
    "\n",
    "Example:\n",
    "Consider two datasets:\n",
    "\n",
    "Dataset A: [10, 15, 20, 25, 30] (Range = 30 - 10 = 20)\n",
    "\n",
    "Dataset B: [5, 15, 25, 35, 45] (Range = 45 - 5 = 40)\n",
    "\n",
    "Even though both datasets have the same mean (20), the range helps to show that Dataset B is more spread out than Dataset A.\n",
    "\n",
    "Variance:\n",
    "\n",
    "Definition: Variance measures the average squared deviation of each data point from the mean.\n",
    "\n",
    "Use: It provides a more precise measure of dispersion than the range. However, since it involves squared differences, the variance is not in the original units of the data, making it less interpretable.\n",
    "\n",
    "Example:\n",
    "Consider a dataset: [5, 10, 15, 20, 25]. The mean is 15.\n",
    "\n",
    "Squared differences: (5−15)^2,(10−15)^2,(15−15)^2,(20−15)^2,(25−15)^2\n",
    " \n",
    "Variance = 50/5 =10\n",
    "\n",
    "Standard Deviation:\n",
    "\n",
    "Definition: Standard deviation is the square root of the variance. It provides a measure of the average deviation in the original units of the data.\n",
    "\n",
    "Use: It is widely used due to its interpretability and is often preferred over variance. A higher standard deviation indicates greater variability.\n",
    "\n",
    "Example:\n",
    "Using the same dataset as above, the standard deviation is the square root of the variance, which is 10 ≈\n",
    "3.16\n"
   ]
  },
  {
   "cell_type": "markdown",
   "id": "9a402989-f712-42b2-9550-d5a57a4b3f3d",
   "metadata": {},
   "source": [
    "Q6. What is a Venn diagram?"
   ]
  },
  {
   "cell_type": "markdown",
   "id": "b1de48ad-acd3-4415-bd7a-ec2352e7a6b5",
   "metadata": {},
   "source": [
    "A Venn diagram is a visual representation that uses overlapping circles or other shapes to illustrate the logical relationships between two or more sets of items. Each set is represented by a circle, and the overlapping regions show the elements that belong to more than one set. The purpose of a Venn diagram is to visually depict the relationships and commonalities between different sets.\n",
    "\n",
    "Key features of a Venn diagram:\n",
    "\n",
    "Circles or Shapes: Each set is typically represented by a circle, ellipse, or other geometric shape. The size of the shape is not necessarily proportional to the size of the set.\n",
    "\n",
    "Overlapping Regions: Overlapping areas represent the elements that belong to multiple sets. The number of overlapping regions depends on the number of sets being compared.\n",
    "\n",
    "Non-overlapping Regions: The parts of the circles that do not overlap with any other circles represent the elements unique to each set."
   ]
  },
  {
   "cell_type": "markdown",
   "id": "2f19e12b-2db7-42c7-bdf3-7d36808398f1",
   "metadata": {},
   "source": [
    "Q7. For the two given sets A = (2,3,4,5,6,7) & B = (0,2,6,8,10). \n",
    "Find:\n",
    "    \n",
    "(i) A ∩ B\n",
    "(ii) A ⋃ B"
   ]
  },
  {
   "cell_type": "markdown",
   "id": "a25e34b9-c595-42de-8ab5-09e4dd0ac063",
   "metadata": {},
   "source": [
    "\n",
    "Given two sets: \n",
    "\n",
    "A={2,3,4,5,6,7}\n",
    "\n",
    "B={0,2,6,8,10}\n",
    "\n",
    "Let's find:\n",
    "\n",
    "(i) \n",
    "A∩B (intersection of A and B): The intersection of two sets includes all elements that are common to both sets.\n",
    "\n",
    "A∩B={2,6}\n",
    "\n",
    "(ii) \n",
    "A∪B (union of A and B): The union of two sets includes all unique elements from both sets.\n",
    "\n",
    "A∪B={0,2,3,4,5,6,7,8,10}"
   ]
  },
  {
   "cell_type": "markdown",
   "id": "7529d7f7-c811-47ae-9319-0f753b19cf3a",
   "metadata": {},
   "source": [
    "Q8. What do you understand about skewness in data?"
   ]
  },
  {
   "cell_type": "markdown",
   "id": "99984286-3f7c-48d3-86bb-8604bddff32c",
   "metadata": {},
   "source": [
    "Skewness is a statistical measure that describes the asymmetry or lack of symmetry in a distribution of data. In other words, skewness indicates the degree and direction of skew (departure from horizontal symmetry) in a dataset.\n",
    "\n",
    "There are three main types of skewness:\n",
    "\n",
    "Negative Skewness (Left Skewness): In a negatively skewed distribution, the tail on the left side is longer or fatter than the right side. The bulk of the values is concentrated on the right side, and the distribution is pulled to the left by a few lower extreme values. The mean is typically less than the median in a negatively skewed distribution.\n",
    "\n",
    "Zero Skewness (Symmetric): In a symmetric distribution, the left and right sides of the distribution are mirror images of each other. The mean and median are equal, and there is no skewness.\n",
    "\n",
    "Positive Skewness (Right Skewness): In a positively skewed distribution, the tail on the right side is longer or fatter than the left side. The bulk of the values is concentrated on the left side, and the distribution is pulled to the right by a few higher extreme values. The mean is typically greater than the median in a positively skewed distribution."
   ]
  },
  {
   "cell_type": "markdown",
   "id": "6e3facaf-6246-41d4-a42a-9d38de9c1cb8",
   "metadata": {},
   "source": [
    "Q9. If a data is right skewed then what will be the position of median with respect to mean?"
   ]
  },
  {
   "cell_type": "markdown",
   "id": "1b88d3b3-670c-42b4-afaf-9fcb9159cf5d",
   "metadata": {},
   "source": [
    "\n",
    "In a right-skewed distribution (positively skewed), the tail on the right side is longer or fatter than the left side. This implies that there are few higher extreme values pulling the distribution to the right. In such a distribution:\n",
    "    \n",
    "In a right-skewed distribution, the median is usually greater than the mean. The order of central tendency measures (from smallest to largest) in a right-skewed distribution is often: mean < median < mode."
   ]
  },
  {
   "cell_type": "markdown",
   "id": "fb23f32e-947a-4b6e-81dc-1729d1fad9e4",
   "metadata": {},
   "source": [
    "Q10. Explain the difference between covariance and correlation. How are these measures used in\n",
    "statistical analysis?"
   ]
  },
  {
   "cell_type": "markdown",
   "id": "e2697ee1-de18-441e-b82b-7e0d83aacfd2",
   "metadata": {},
   "source": [
    "Covariance:\n",
    "\n",
    "Definition: Covariance measures how much two variables change together. It indicates the direction (positive or negative) of the linear relationship between the variables.\n",
    "\n",
    "Covariance can be positive or negative, but its magnitude is not easy to interpret.\n",
    "\n",
    "It is used to understand the direction of the relationship between two variables.\n",
    "\n",
    "A positive covariance indicates a positive relationship, and a negative covariance indicates a negative relationship.\n",
    "\n",
    "Limitation: The scale of covariance makes it difficult to compare the strengths of relationships.\n",
    "\n",
    "\n",
    "Correlation:\n",
    "\n",
    "Definition: Correlation is a standardized measure that quantifies the strength and direction of a linear relationship between two variables. It ranges from -1 to 1, where -1 indicates a perfect negative linear relationship, 1 indicates a perfect positive linear relationship, and 0 indicates no linear relationship.\n",
    "\n",
    "Correlation standardizes the measure, making it easier to interpret and compare.\n",
    "\n",
    "It provides a more meaningful measure of the strength and direction of the linear relationship between two variables.\n",
    "\n",
    "Correlation is widely used in regression analysis, portfolio management, and other statistical analyses."
   ]
  },
  {
   "cell_type": "markdown",
   "id": "38f3974c-e211-4870-b41c-922e3e6735b9",
   "metadata": {},
   "source": [
    "Q11. What is the formula for calculating the sample mean? Provide an example calculation for a\n",
    "dataset."
   ]
  },
  {
   "cell_type": "markdown",
   "id": "f960556c-ad4f-410f-bf93-bdc224156c5a",
   "metadata": {},
   "source": [
    "The general sample mean formula for calculating the sample mean is expressed as \n",
    "\n",
    "x̄ = ( Σ xi ) ÷ n\n",
    "\n",
    " Here, x̄ denotes the average value of the samples or sample mean, xi refers all X sample values and 'n' stands for the number of sample terms in the given data.\n",
    " \n",
    " Here's an example calculation:\n",
    "\n",
    "Consider a dataset: [10,15,12,18,20]\n",
    "\n",
    "Sum of the data points: 10+15+12+18+20=75\n",
    "\n",
    "Number of sample terms (n)\n",
    "n=5\n",
    "\n",
    "Calculate the sample mean :\n",
    "  75/5 =15"
   ]
  },
  {
   "cell_type": "markdown",
   "id": "34cdcdb9-deec-415b-bd6e-b06689f86531",
   "metadata": {},
   "source": [
    "Q12. For a normal distribution data what is the relationship between its measure of central tendency?"
   ]
  },
  {
   "cell_type": "markdown",
   "id": "6bf32a3b-7f9f-475c-ab12-4ea84348a8f4",
   "metadata": {},
   "source": [
    "For a normal distribution, the relationship between its measures of central tendency (mean, median, and mode) is as follows:\n",
    "\n",
    "Mean = Median = Mode\n",
    "\n",
    "The distribution is perfectly symmetrical.\n",
    "\n",
    "The measures of central tendency coincide at the center of the distribution."
   ]
  },
  {
   "cell_type": "markdown",
   "id": "2b33dfbc-4368-4eac-898c-9cd6125ff3c7",
   "metadata": {},
   "source": [
    "Q13. How is covariance different from correlation?"
   ]
  },
  {
   "cell_type": "markdown",
   "id": "16b4fa27-07ba-4f72-9210-b8e51e992f4d",
   "metadata": {},
   "source": [
    "Definition:\n",
    "\n",
    "Covariance: Covariance measures the degree to which two variables change together. It indicates the direction (positive or negative) of the linear relationship between the variables. However, the scale of covariance is not standardized.\n",
    "\n",
    "Correlation: Correlation is a standardized measure that quantifies the strength and direction of a linear relationship between two variables. It ranges from -1 to 1, where -1 indicates a perfect negative linear relationship, 1 indicates a perfect positive linear relationship, and 0 indicates no linear relationship.\n",
    "\n",
    "Scale:\n",
    "\n",
    "Covariance: The units of covariance are the product of the units of the two variables. Therefore, the scale of covariance is not standardized, making it challenging to interpret the magnitude of the value.\n",
    "\n",
    "Correlation: Correlation is a unitless measure since it is the ratio of covariances to the product of standard deviations. It provides a standardized measure of the strength and direction of the relationship.\n",
    "\n",
    "Range:\n",
    "\n",
    "Covariance: The range of covariance is unbounded, and it can take any real value.\n",
    "\n",
    "Correlation: The range of correlation is from -1 to 1, providing a clear indication of the strength and direction of the linear relationship.\n",
    "\n",
    "Interpretation:\n",
    "\n",
    "Covariance: The magnitude of covariance is challenging to interpret, and its sign (positive or negative) indicates the direction of the relationship. However, the strength of the relationship cannot be easily assessed without considering the scales of the variables.\n",
    "\n",
    "Correlation: The magnitude of correlation is easier to interpret, and its sign indicates the direction of the linear relationship. The value of correlation also provides information about the strength of the relationship, with 1 or -1 indicating a perfect linear relationship.\n",
    "\n",
    "Standardization:\n",
    "\n",
    "Covariance: Covariance is not standardized and is sensitive to changes in the scales of the variables.\n",
    "\n",
    "Correlation: Correlation is standardized and is not affected by changes in the scales of the variables."
   ]
  },
  {
   "cell_type": "markdown",
   "id": "6cb931a3-1bb7-49fd-a70d-b5d6cf43b0fb",
   "metadata": {},
   "source": [
    "Q14. How do outliers affect measures of central tendency and dispersion? Provide an example."
   ]
  },
  {
   "cell_type": "markdown",
   "id": "2bfe5850-6931-40a6-aa56-fd85dca9b76c",
   "metadata": {},
   "source": [
    "Measures of Central Tendency:\n",
    "\n",
    "Mean: Outliers have a substantial impact on the mean. Since the mean is calculated by summing up all values and dividing by the number of values, the presence of extreme values can pull the mean towards them. A single extreme value can greatly skew the mean.\n",
    "\n",
    "Median: The median is less sensitive to outliers. It represents the middle value when the data is sorted, so extreme values have less influence.\n",
    "\n",
    "Mode: The mode may be unaffected by outliers if the majority of the data points are concentrated around a particular value.\n",
    "\n",
    "Measures of Dispersion:\n",
    "\n",
    "Range: Outliers can significantly affect the range, especially if they are extreme values. The range is the difference between the maximum and minimum values, so a single outlier can greatly expand the range.\n",
    "\n",
    "Variance and Standard Deviation: Outliers increase the variability in the dataset, leading to higher values for variance and standard deviation. Since these measures involve squared differences from the mean, extreme values have a squared impact.\n",
    "\n",
    "Interquartile Range (IQR): The IQR, which is the range of the middle 50% of the data, is less affected by outliers compared to the range."
   ]
  },
  {
   "cell_type": "markdown",
   "id": "2e6f7380-974c-41a0-8e68-2f82a8586b2f",
   "metadata": {},
   "source": [
    "Example:\n",
    "Consider the following dataset representing the ages of a group of individuals:\n",
    "\n",
    "25,30,35,40,45,50,55,60,65,70,150\n",
    "\n",
    "In this dataset, 150 is an outlier. Let's observe the impact on measures:\n",
    "\n",
    "Without Outlier:\n",
    "\n",
    "Mean = 55.45\n",
    "\n",
    "Median = 50\n",
    "\n",
    "Standard Deviation = 18.35\n",
    "\n",
    "With Outlier:\n",
    "\n",
    "Mean = 67.18 (Notice the significant increase due to the outlier)\n",
    "\n",
    "Median = 50 (Less affected by the outlier)\n",
    "\n",
    "Standard Deviation = 33.32 (Higher due to increased variability)"
   ]
  },
  {
   "cell_type": "code",
   "execution_count": null,
   "id": "e79a1f01-96c4-40a3-85f6-5f31b1987120",
   "metadata": {},
   "outputs": [],
   "source": []
  }
 ],
 "metadata": {
  "kernelspec": {
   "display_name": "Python 3 (ipykernel)",
   "language": "python",
   "name": "python3"
  },
  "language_info": {
   "codemirror_mode": {
    "name": "ipython",
    "version": 3
   },
   "file_extension": ".py",
   "mimetype": "text/x-python",
   "name": "python",
   "nbconvert_exporter": "python",
   "pygments_lexer": "ipython3",
   "version": "3.10.8"
  }
 },
 "nbformat": 4,
 "nbformat_minor": 5
}
